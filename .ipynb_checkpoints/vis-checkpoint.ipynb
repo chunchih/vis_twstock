{
 "cells": [
  {
   "cell_type": "code",
   "execution_count": 1,
   "metadata": {},
   "outputs": [
    {
     "name": "stderr",
     "output_type": "stream",
     "text": [
      "/home/jerry/anaconda2/lib/python2.7/site-packages/matplotlib/cbook.py:136: MatplotlibDeprecationWarning: The finance module has been deprecated in mpl 2.0 and will be removed in mpl 2.2. Please use the module mpl_finance instead.\n",
      "  warnings.warn(message, mplDeprecation, stacklevel=1)\n"
     ]
    }
   ],
   "source": [
    "import matplotlib.pyplot as plt\n",
    "import matplotlib.ticker as ticker\n",
    "from matplotlib.dates import DateFormatter, WeekdayLocator, \\\n",
    "    DayLocator, MONDAY, date2num, num2date\n",
    "from matplotlib.finance import candlestick_ohlc\n",
    "import datetime\n",
    "import numpy as np\n",
    "from numpy import genfromtxt\n",
    "import os\n",
    "import pandas as pd\n",
    "import time\n",
    "from utils import *"
   ]
  },
  {
   "cell_type": "markdown",
   "metadata": {},
   "source": [
    "# 1. Process Data"
   ]
  },
  {
   "cell_type": "code",
   "execution_count": null,
   "metadata": {
    "scrolled": false
   },
   "outputs": [],
   "source": [
    "stock_list, stock_dict = get_stock('stock_list.txt')\n",
    "digit_time = 20180306\n",
    "\n",
    "### remove list: have to hide on today borad\n",
    "### reserve list: should reserve it instead of filtering\n",
    "remove_list, reserve_list = getReserve_Remove(digit_time,)\n",
    "\n",
    "count = 0\n",
    "recommand = []\n",
    "\n",
    "for s in stock_list:\n",
    "    if s in remove_list:\n",
    "        continue\n",
    "    \n",
    "    ### Get Information from csv file\n",
    "    date, volume, price, date_correct = getData_by_stock(stock_dict, int(s), digit_time) \n",
    "    \n",
    "    if date_correct is False:\n",
    "        continue\n",
    "    \n",
    "    ### Split Stock's price into 4 part\n",
    "    open_p, high_p, low_p, close_p = price[:,0], price[:,1], price[:,2], price[:,3]\n",
    "    \n",
    "    \n",
    "    if s not in reserve_list:\n",
    "#         if len(date) < 1000 or np.mean(volume[-200:])/1000.0 < 500:\n",
    "#             continue\n",
    "\n",
    "        ### Check if trend forms the bottom higher than previous one\n",
    "        idx = 0\n",
    "        for i in range(20):\n",
    "            if 2+i+1 > len(low_p):\n",
    "                lowest=0\n",
    "                break\n",
    "            if low_p[-2-i+1] > low_p[-2-i] and low_p[-2-i-1] > low_p[-2-i]:\n",
    "                idx = -2-i\n",
    "                lowest = close_p[-2-i]\n",
    "                break\n",
    "\n",
    "        idx2 = idx-1\n",
    "        for i in range(200):\n",
    "            if -idx2+i+1 > len(low_p):\n",
    "                lowest=0\n",
    "                break\n",
    "            if low_p[idx2-i-1] > low_p[idx2-i] and low_p[idx2-i+1] > low_p[idx2-i]:\n",
    "                idx2 = idx2-i\n",
    "                lowest2 = close_p[idx2-i]\n",
    "                break\n",
    "        \n",
    "        if idx2 == 0 or lowest2 > lowest:\n",
    "            continue\n",
    "            \n",
    "        ### Check price in affordable range            \n",
    "        if close_p[-1] < 10 or close_p[-1] > 50:\n",
    "            continue\n",
    "        \n",
    "        ### Check stock has the potential to explose up\n",
    "        fg = 0\n",
    "        for i in range(-1,-len(close_p)-1,-1):\n",
    "            high = close_p[i]\n",
    "            for j in range(i-3,-len(close_p)-1,-1):\n",
    "                if (close_p[i]-close_p[j])/(close_p[j]*(i-j)) > 0.2/60:\n",
    "                    fg = 1\n",
    "                    break\n",
    "            if fg == 1:\n",
    "                break\n",
    "        if fg == 0:\n",
    "            continue\n",
    "    \n",
    "    fullfill_y, info_y, print_info_y, value_y = predict_price(open_p, close_p, high_p, -1)\n",
    "    fullfill_t, info_t, print_info_t, value_t = predict_price(open_p, close_p, high_p, 0)\n",
    "    \n",
    "    if value_t > value_y:\n",
    "        continue\n",
    "    \n",
    "    print s, close_p[-1]\n",
    "    print \"info_y:\", print_info_y\n",
    "    print \"info_t:\", print_info_t\n",
    "    print fullfill_t, info_t\n",
    "    recommand += [s]\n",
    "    draw_plot(date, volume/1000.0, price, 150)\n",
    "    \n",
    "    count += 1\n",
    "    \n",
    "f = open('H.I./reserve_'+str(digit_time)+'.txt', 'w')\n",
    "f.write('\\n'.join(recommand))\n",
    "f.close()\n",
    "print count\n",
    "print recommand"
   ]
  }
 ],
 "metadata": {
  "kernelspec": {
   "display_name": "Python 2",
   "language": "python",
   "name": "python2"
  },
  "language_info": {
   "codemirror_mode": {
    "name": "ipython",
    "version": 2
   },
   "file_extension": ".py",
   "mimetype": "text/x-python",
   "name": "python",
   "nbconvert_exporter": "python",
   "pygments_lexer": "ipython2",
   "version": "2.7.13"
  }
 },
 "nbformat": 4,
 "nbformat_minor": 2
}
